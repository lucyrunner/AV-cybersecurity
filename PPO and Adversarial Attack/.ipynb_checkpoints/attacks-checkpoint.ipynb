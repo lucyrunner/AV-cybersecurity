{
 "cells": [
  {
   "cell_type": "code",
   "execution_count": 29,
   "id": "ce2aec5c-7aaf-40e3-a2af-68b27edd7cf1",
   "metadata": {},
   "outputs": [
    {
     "ename": "SyntaxError",
     "evalue": "invalid syntax (2671744104.py, line 1)",
     "output_type": "error",
     "traceback": [
      "\u001b[0;36m  Cell \u001b[0;32mIn[29], line 1\u001b[0;36m\u001b[0m\n\u001b[0;31m    jupyter nbconvert --to python acc_env_checkpoint.ipynb\u001b[0m\n\u001b[0m            ^\u001b[0m\n\u001b[0;31mSyntaxError\u001b[0m\u001b[0;31m:\u001b[0m invalid syntax\n"
     ]
    }
   ],
   "source": [
    "jupyter nbconvert --to python acc_env_checkpoint.ipynb"
   ]
  },
  {
   "cell_type": "code",
   "execution_count": null,
   "id": "5e5b8f33-cef9-4c18-9de7-40c62c27542f",
   "metadata": {},
   "outputs": [],
   "source": [
    "from __future__ import annotations\n",
    "import gymnasium as gym\n",
    "import torch\n",
    "import numpy as np\n",
    "from typing import Any"
   ]
  },
  {
   "cell_type": "code",
   "execution_count": null,
   "id": "b6062c61-99c7-4ade-8468-b6bc37005906",
   "metadata": {},
   "outputs": [],
   "source": [
    "def _to_tensor(x: np.ndarray) -> torch.Tensor:\n",
    "    return torch.as_tensor(x, dtype=torch.float32)"
   ]
  },
  {
   "cell_type": "code",
   "execution_count": null,
   "id": "5f86d3cb-5223-438b-9676-75fd66bd08d3",
   "metadata": {},
   "outputs": [],
   "source": [
    "class AttackWrapper:\n",
    "    \"\"\"Base wrapper that perturbs observations before the agent acts.\"\"\"\n",
    "    def __init__(self, model: Any, epsilon: float = 0.01, device: str = \"cpu\") -> None:\n",
    "        self.model = model\n",
    "        self.eps = float(epsilon)\n",
    "        self.device = device\n",
    "\n",
    "    def perturb(self, obs: np.ndarray) -> np.ndarray:\n",
    "        return obs\n",
    "\n",
    "    def act(self, obs: np.ndarray):\n",
    "        # Compute adversarial observation (gradients enabled in perturb),\n",
    "        # then call model.predict without gradients.\n",
    "        obs_adv = self.perturb(obs)\n",
    "        with torch.no_grad():\n",
    "            action, _ = self.model.predict(obs_adv, deterministic=True)\n",
    "        return action, obs_adv"
   ]
  },
  {
   "cell_type": "code",
   "execution_count": null,
   "id": "498d2f36-1497-45c5-a59a-89b458f7cc03",
   "metadata": {},
   "outputs": [],
   "source": [
    "class FGSMAttack(AttackWrapper):\n",
    "    \"\"\"FGSM with respect to policy mean action (pre-squash).\"\"\"\n",
    "    def perturb(self, obs: np.ndarray) -> np.ndarray:\n",
    "        # prepare policy for gradients\n",
    "        self.model.policy.set_training_mode(True)\n",
    "        self.model.policy.zero_grad(set_to_none=True)\n",
    "\n",
    "        obs_t = _to_tensor(obs)\n",
    "        single = False\n",
    "        if obs_t.ndim == 1:\n",
    "            obs_t = obs_t.unsqueeze(0)\n",
    "            single = True\n",
    "        obs_t = obs_t.to(self.device)\n",
    "        obs_t.requires_grad_(True)\n",
    "\n",
    "        # forward through policy internals to get mean action\n",
    "        features = self.model.policy.extract_features(obs_t)\n",
    "        latent_pi, _ = self.model.policy.mlp_extractor(features)\n",
    "        mean_actions = self.model.policy.action_net(latent_pi)  # [B, act_dim]\n",
    "\n",
    "        # simple scalar objective: increase squared mean action\n",
    "        obj = (mean_actions ** 2).sum()\n",
    "        obj.backward()\n",
    "\n",
    "        grad_sign = torch.sign(obs_t.grad)\n",
    "        adv = torch.clamp(obs_t + self.eps * grad_sign, -1.0, 1.0)\n",
    "        adv_np = adv.detach().cpu().numpy()\n",
    "        return adv_np[0] if single else adv_np"
   ]
  },
  {
   "cell_type": "code",
   "execution_count": null,
   "id": "43dcab2b-56d1-4114-8c78-b23132490b7e",
   "metadata": {},
   "outputs": [],
   "source": [
    "class OIAttack(AttackWrapper):\n",
    "    \"\"\"Optimism Induction Attack: increase the critic value V(s).\"\"\"\n",
    "    def perturb(self, obs: np.ndarray) -> np.ndarray:\n",
    "        self.model.policy.set_training_mode(True)\n",
    "        self.model.policy.zero_grad(set_to_none=True)\n",
    "\n",
    "        obs_t = _to_tensor(obs)\n",
    "        single = False\n",
    "        if obs_t.ndim == 1:\n",
    "            obs_t = obs_t.unsqueeze(0)\n",
    "            single = True\n",
    "        obs_t = obs_t.to(self.device)\n",
    "        obs_t.requires_grad_(True)\n",
    "\n",
    "        features = self.model.policy.extract_features(obs_t)\n",
    "        _, latent_vf = self.model.policy.mlp_extractor(features)\n",
    "        values = self.model.policy.value_net(latent_vf)  # [B,1]\n",
    "\n",
    "        obj = values.sum()\n",
    "        obj.backward()\n",
    "\n",
    "        grad_sign = torch.sign(obs_t.grad)\n",
    "        adv = torch.clamp(obs_t + self.eps * grad_sign, -1.0, 1.0)\n",
    "        adv_np = adv.detach().cpu().numpy()\n",
    "        return adv_np[0] if single else adv_np\n"
   ]
  },
  {
   "cell_type": "code",
   "execution_count": null,
   "id": "8057fe2e-2849-4c07-ad03-c36e7e8d29e3",
   "metadata": {},
   "outputs": [],
   "source": [
    "from stable_baselines3 import PPO\n",
    "from stable_baselines3.common.vec_env import DummyVecEnv, VecNormalize\n",
    "from acc_env import ACCEnv\n",
    "\n",
    "LOGDIR = \"runs/ppo_baseline\"\n",
    "\n",
    "def make_env_eval(seed=123):\n",
    "    def _thunk():\n",
    "        return ACCEnv(brake_profile=True, normalize_obs=True, seed=seed)\n",
    "    return _thunk\n",
    "\n",
    "base_env = DummyVecEnv([make_env_eval()])\n",
    "env = VecNormalize.load(f\"{LOGDIR}/vecnormalize.pkl\", base_env)\n",
    "env.training = False\n",
    "env.norm_reward = False\n",
    "\n",
    "model = PPO.load(f\"{LOGDIR}/ppo_acc\")\n"
   ]
  },
  {
   "cell_type": "code",
   "execution_count": null,
   "id": "5873b849-fdd5-4797-a289-102a76645aac",
   "metadata": {},
   "outputs": [],
   "source": [
    "def print_attack_sanity(model, env, eps=0.01):\n",
    "    atk = FGSMAttack(model, epsilon=eps, device=\"cpu\")\n",
    "    obs = env.reset()[0]\n",
    "    adv = atk.perturb(obs)\n",
    "    print(\"FGSM sanity:\")\n",
    "    print(\" original obs:\", obs)\n",
    "    print(\" adv obs     :\", adv)\n",
    "    print(\" max |Δ|     :\", float(np.max(np.abs(np.array(adv) - np.array(obs)))))\n",
    "\n",
    "    atk2 = OIAttack(model, epsilon=eps, device=\"cpu\")\n",
    "    adv2 = atk2.perturb(obs)\n",
    "    print(\"\\nOIA sanity:\")\n",
    "    print(\" original obs:\", obs)\n",
    "    print(\" adv obs     :\", adv2)\n",
    "    print(\" max |Δ|     :\", float(np.max(np.abs(np.array(adv2) - np.array(obs)))))"
   ]
  },
  {
   "cell_type": "code",
   "execution_count": null,
   "id": "95fc024d-c2c0-4c5a-983e-28446173c81e",
   "metadata": {},
   "outputs": [],
   "source": [
    "# Quick demo run (will only work if `model` and `env` exist in the kernel).\n",
    "# If not present, this prints an instructive message.\n",
    "try:\n",
    "    print(\"Running a one-step demo with current model/env (if available)...\\n\")\n",
    "    atk = FGSMAttack(model, epsilon=0.01, device=\"cpu\")\n",
    "    obs = env.reset()[0]\n",
    "    adv = atk.perturb(obs)\n",
    "    print(\"FGSM max |Δ|:\", float(np.max(np.abs(np.array(adv) - np.array(obs)))))\n",
    "    atk2 = OIAttack(model, epsilon=0.01, device=\"cpu\")\n",
    "    adv2 = atk2.perturb(obs)\n",
    "    print(\"OIA  max |Δ|:\", float(np.max(np.abs(np.array(adv2) - np.array(obs)))))\n",
    "except NameError:\n",
    "    print(\"Define `model` and `env` (load your PPO and VecNormalize env) before running the demo cell.\")"
   ]
  }
 ],
 "metadata": {
  "kernelspec": {
   "display_name": "Python 3 (ipykernel)",
   "language": "python",
   "name": "python3"
  },
  "language_info": {
   "codemirror_mode": {
    "name": "ipython",
    "version": 3
   },
   "file_extension": ".py",
   "mimetype": "text/x-python",
   "name": "python",
   "nbconvert_exporter": "python",
   "pygments_lexer": "ipython3",
   "version": "3.12.2"
  }
 },
 "nbformat": 4,
 "nbformat_minor": 5
}
