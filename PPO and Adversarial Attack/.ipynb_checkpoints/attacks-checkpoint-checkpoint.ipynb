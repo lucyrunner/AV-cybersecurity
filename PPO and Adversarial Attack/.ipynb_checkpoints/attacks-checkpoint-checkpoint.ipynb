{
 "cells": [
  {
   "cell_type": "code",
   "execution_count": 30,
   "id": "7a5b15d1-ecd3-4b46-ac29-7ed59eae96e5",
   "metadata": {},
   "outputs": [
    {
     "name": "stdout",
     "output_type": "stream",
     "text": [
      "Running acc_env.ipynb directly...\n"
     ]
    },
    {
     "ename": "Exception",
     "evalue": "File `'./acc_env.ipynb'` not found.",
     "output_type": "error",
     "traceback": [
      "\u001b[0;31m---------------------------------------------------------------------------\u001b[0m",
      "\u001b[0;31mModuleNotFoundError\u001b[0m                       Traceback (most recent call last)",
      "Cell \u001b[0;32mIn[30], line 8\u001b[0m\n\u001b[1;32m      7\u001b[0m \u001b[38;5;28;01mtry\u001b[39;00m:\n\u001b[0;32m----> 8\u001b[0m     \u001b[38;5;28;01mfrom\u001b[39;00m\u001b[38;5;250m \u001b[39m\u001b[38;5;21;01macc_env\u001b[39;00m\u001b[38;5;250m \u001b[39m\u001b[38;5;28;01mimport\u001b[39;00m ACCEnv\n\u001b[1;32m      9\u001b[0m \u001b[38;5;28;01mexcept\u001b[39;00m \u001b[38;5;167;01mModuleNotFoundError\u001b[39;00m:\n",
      "\u001b[0;31mModuleNotFoundError\u001b[0m: No module named 'acc_env'",
      "\nDuring handling of the above exception, another exception occurred:\n",
      "\u001b[0;31mOSError\u001b[0m                                   Traceback (most recent call last)",
      "File \u001b[0;32m/opt/miniconda3/lib/python3.12/site-packages/IPython/core/magics/execution.py:720\u001b[0m, in \u001b[0;36mExecutionMagics.run\u001b[0;34m(self, parameter_s, runner, file_finder)\u001b[0m\n\u001b[1;32m    719\u001b[0m     fpath \u001b[38;5;241m=\u001b[39m arg_lst[\u001b[38;5;241m0\u001b[39m]\n\u001b[0;32m--> 720\u001b[0m     filename \u001b[38;5;241m=\u001b[39m \u001b[43mfile_finder\u001b[49m\u001b[43m(\u001b[49m\u001b[43mfpath\u001b[49m\u001b[43m)\u001b[49m\n\u001b[1;32m    721\u001b[0m \u001b[38;5;28;01mexcept\u001b[39;00m \u001b[38;5;167;01mIndexError\u001b[39;00m \u001b[38;5;28;01mas\u001b[39;00m e:\n",
      "File \u001b[0;32m/opt/miniconda3/lib/python3.12/site-packages/IPython/utils/path.py:91\u001b[0m, in \u001b[0;36mget_py_filename\u001b[0;34m(name)\u001b[0m\n\u001b[1;32m     90\u001b[0m         \u001b[38;5;28;01mreturn\u001b[39;00m py_name\n\u001b[0;32m---> 91\u001b[0m \u001b[38;5;28;01mraise\u001b[39;00m \u001b[38;5;167;01mIOError\u001b[39;00m(\u001b[38;5;124m\"\u001b[39m\u001b[38;5;124mFile `\u001b[39m\u001b[38;5;132;01m%r\u001b[39;00m\u001b[38;5;124m` not found.\u001b[39m\u001b[38;5;124m\"\u001b[39m \u001b[38;5;241m%\u001b[39m name)\n",
      "\u001b[0;31mOSError\u001b[0m: File `'./acc_env.ipynb'` not found.",
      "\nThe above exception was the direct cause of the following exception:\n",
      "\u001b[0;31mException\u001b[0m                                 Traceback (most recent call last)",
      "Cell \u001b[0;32mIn[30], line 18\u001b[0m\n\u001b[1;32m     16\u001b[0m \u001b[38;5;28;01melse\u001b[39;00m:\n\u001b[1;32m     17\u001b[0m     \u001b[38;5;28mprint\u001b[39m(\u001b[38;5;124m\"\u001b[39m\u001b[38;5;124mRunning acc_env.ipynb directly...\u001b[39m\u001b[38;5;124m\"\u001b[39m)\n\u001b[0;32m---> 18\u001b[0m     \u001b[43mget_ipython\u001b[49m\u001b[43m(\u001b[49m\u001b[43m)\u001b[49m\u001b[38;5;241;43m.\u001b[39;49m\u001b[43mrun_line_magic\u001b[49m\u001b[43m(\u001b[49m\u001b[38;5;124;43m\"\u001b[39;49m\u001b[38;5;124;43mrun\u001b[39;49m\u001b[38;5;124;43m\"\u001b[39;49m\u001b[43m,\u001b[49m\u001b[43m \u001b[49m\u001b[38;5;124;43mf\u001b[39;49m\u001b[38;5;124;43m\"\u001b[39;49m\u001b[38;5;124;43m./\u001b[39;49m\u001b[38;5;132;43;01m{\u001b[39;49;00m\u001b[43mNOTEBOOK\u001b[49m\u001b[38;5;132;43;01m}\u001b[39;49;00m\u001b[38;5;124;43m\"\u001b[39;49m\u001b[43m)\u001b[49m\n",
      "File \u001b[0;32m/opt/miniconda3/lib/python3.12/site-packages/IPython/core/interactiveshell.py:2480\u001b[0m, in \u001b[0;36mInteractiveShell.run_line_magic\u001b[0;34m(self, magic_name, line, _stack_depth)\u001b[0m\n\u001b[1;32m   2478\u001b[0m     kwargs[\u001b[38;5;124m'\u001b[39m\u001b[38;5;124mlocal_ns\u001b[39m\u001b[38;5;124m'\u001b[39m] \u001b[38;5;241m=\u001b[39m \u001b[38;5;28mself\u001b[39m\u001b[38;5;241m.\u001b[39mget_local_scope(stack_depth)\n\u001b[1;32m   2479\u001b[0m \u001b[38;5;28;01mwith\u001b[39;00m \u001b[38;5;28mself\u001b[39m\u001b[38;5;241m.\u001b[39mbuiltin_trap:\n\u001b[0;32m-> 2480\u001b[0m     result \u001b[38;5;241m=\u001b[39m \u001b[43mfn\u001b[49m\u001b[43m(\u001b[49m\u001b[38;5;241;43m*\u001b[39;49m\u001b[43margs\u001b[49m\u001b[43m,\u001b[49m\u001b[43m \u001b[49m\u001b[38;5;241;43m*\u001b[39;49m\u001b[38;5;241;43m*\u001b[39;49m\u001b[43mkwargs\u001b[49m\u001b[43m)\u001b[49m\n\u001b[1;32m   2482\u001b[0m \u001b[38;5;66;03m# The code below prevents the output from being displayed\u001b[39;00m\n\u001b[1;32m   2483\u001b[0m \u001b[38;5;66;03m# when using magics with decorator @output_can_be_silenced\u001b[39;00m\n\u001b[1;32m   2484\u001b[0m \u001b[38;5;66;03m# when the last Python token in the expression is a ';'.\u001b[39;00m\n\u001b[1;32m   2485\u001b[0m \u001b[38;5;28;01mif\u001b[39;00m \u001b[38;5;28mgetattr\u001b[39m(fn, magic\u001b[38;5;241m.\u001b[39mMAGIC_OUTPUT_CAN_BE_SILENCED, \u001b[38;5;28;01mFalse\u001b[39;00m):\n",
      "File \u001b[0;32m/opt/miniconda3/lib/python3.12/site-packages/IPython/core/magics/execution.py:731\u001b[0m, in \u001b[0;36mExecutionMagics.run\u001b[0;34m(self, parameter_s, runner, file_finder)\u001b[0m\n\u001b[1;32m    729\u001b[0m     \u001b[38;5;28;01mif\u001b[39;00m os\u001b[38;5;241m.\u001b[39mname \u001b[38;5;241m==\u001b[39m \u001b[38;5;124m'\u001b[39m\u001b[38;5;124mnt\u001b[39m\u001b[38;5;124m'\u001b[39m \u001b[38;5;129;01mand\u001b[39;00m re\u001b[38;5;241m.\u001b[39mmatch(\u001b[38;5;124mr\u001b[39m\u001b[38;5;124m\"\u001b[39m\u001b[38;5;124m^\u001b[39m\u001b[38;5;124m'\u001b[39m\u001b[38;5;124m.*\u001b[39m\u001b[38;5;124m'\u001b[39m\u001b[38;5;124m$\u001b[39m\u001b[38;5;124m\"\u001b[39m,fpath):\n\u001b[1;32m    730\u001b[0m         warn(\u001b[38;5;124m'\u001b[39m\u001b[38;5;124mFor Windows, use double quotes to wrap a filename: \u001b[39m\u001b[38;5;132;01m%r\u001b[39;00m\u001b[38;5;124mun \u001b[39m\u001b[38;5;124m\"\u001b[39m\u001b[38;5;124mmypath\u001b[39m\u001b[38;5;130;01m\\\\\u001b[39;00m\u001b[38;5;124mmyfile.py\u001b[39m\u001b[38;5;124m\"\u001b[39m\u001b[38;5;124m'\u001b[39m)\n\u001b[0;32m--> 731\u001b[0m     \u001b[38;5;28;01mraise\u001b[39;00m \u001b[38;5;167;01mException\u001b[39;00m(msg) \u001b[38;5;28;01mfrom\u001b[39;00m\u001b[38;5;250m \u001b[39m\u001b[38;5;21;01me\u001b[39;00m\n\u001b[1;32m    732\u001b[0m \u001b[38;5;28;01mexcept\u001b[39;00m \u001b[38;5;167;01mTypeError\u001b[39;00m:\n\u001b[1;32m    733\u001b[0m     \u001b[38;5;28;01mif\u001b[39;00m fpath \u001b[38;5;129;01min\u001b[39;00m sys\u001b[38;5;241m.\u001b[39mmeta_path:\n",
      "\u001b[0;31mException\u001b[0m: File `'./acc_env.ipynb'` not found."
     ]
    }
   ],
   "source": [
    "import os, sys, importlib, subprocess, shlex\n",
    "from IPython import get_ipython\n",
    "\n",
    "NOTEBOOK = \"acc_env.ipynb\"\n",
    "MODULE   = \"acc_env\"\n",
    "\n",
    "try:\n",
    "    from acc_env import ACCEnv\n",
    "except ModuleNotFoundError:\n",
    "    if os.path.exists(NOTEBOOK):\n",
    "        print(\"Converting acc_env.ipynb → acc_env.py and importing...\")\n",
    "        subprocess.run(shlex.split(f\"jupyter nbconvert --to python {NOTEBOOK}\"), check=True)\n",
    "        if os.getcwd() not in sys.path:\n",
    "            sys.path.append(os.getcwd())\n",
    "        from acc_env import ACCEnv\n",
    "    else:\n",
    "        print(\"Running acc_env.ipynb directly...\")\n",
    "        get_ipython().run_line_magic(\"run\", f\"./{NOTEBOOK}\")"
   ]
  },
  {
   "cell_type": "code",
   "execution_count": null,
   "id": "ce2aec5c-7aaf-40e3-a2af-68b27edd7cf1",
   "metadata": {},
   "outputs": [],
   "source": [
    "jupyter nbconvert --to python acc_env_checkpoint.ipynb"
   ]
  },
  {
   "cell_type": "code",
   "execution_count": null,
   "id": "5e5b8f33-cef9-4c18-9de7-40c62c27542f",
   "metadata": {},
   "outputs": [],
   "source": [
    "from __future__ import annotations\n",
    "import gymnasium as gym\n",
    "import torch\n",
    "import numpy as np\n",
    "from typing import Any"
   ]
  },
  {
   "cell_type": "code",
   "execution_count": null,
   "id": "b6062c61-99c7-4ade-8468-b6bc37005906",
   "metadata": {},
   "outputs": [],
   "source": [
    "def _to_tensor(x: np.ndarray) -> torch.Tensor:\n",
    "    return torch.as_tensor(x, dtype=torch.float32)"
   ]
  },
  {
   "cell_type": "code",
   "execution_count": null,
   "id": "5f86d3cb-5223-438b-9676-75fd66bd08d3",
   "metadata": {},
   "outputs": [],
   "source": [
    "class AttackWrapper:\n",
    "    \"\"\"Base wrapper that perturbs observations before the agent acts.\"\"\"\n",
    "    def __init__(self, model: Any, epsilon: float = 0.01, device: str = \"cpu\") -> None:\n",
    "        self.model = model\n",
    "        self.eps = float(epsilon)\n",
    "        self.device = device\n",
    "\n",
    "    def perturb(self, obs: np.ndarray) -> np.ndarray:\n",
    "        return obs\n",
    "\n",
    "    def act(self, obs: np.ndarray):\n",
    "        # Compute adversarial observation (gradients enabled in perturb),\n",
    "        # then call model.predict without gradients.\n",
    "        obs_adv = self.perturb(obs)\n",
    "        with torch.no_grad():\n",
    "            action, _ = self.model.predict(obs_adv, deterministic=True)\n",
    "        return action, obs_adv"
   ]
  },
  {
   "cell_type": "code",
   "execution_count": null,
   "id": "498d2f36-1497-45c5-a59a-89b458f7cc03",
   "metadata": {},
   "outputs": [],
   "source": [
    "class FGSMAttack(AttackWrapper):\n",
    "    \"\"\"FGSM with respect to policy mean action (pre-squash).\"\"\"\n",
    "    def perturb(self, obs: np.ndarray) -> np.ndarray:\n",
    "        # prepare policy for gradients\n",
    "        self.model.policy.set_training_mode(True)\n",
    "        self.model.policy.zero_grad(set_to_none=True)\n",
    "\n",
    "        obs_t = _to_tensor(obs)\n",
    "        single = False\n",
    "        if obs_t.ndim == 1:\n",
    "            obs_t = obs_t.unsqueeze(0)\n",
    "            single = True\n",
    "        obs_t = obs_t.to(self.device)\n",
    "        obs_t.requires_grad_(True)\n",
    "\n",
    "        # forward through policy internals to get mean action\n",
    "        features = self.model.policy.extract_features(obs_t)\n",
    "        latent_pi, _ = self.model.policy.mlp_extractor(features)\n",
    "        mean_actions = self.model.policy.action_net(latent_pi)  # [B, act_dim]\n",
    "\n",
    "        # simple scalar objective: increase squared mean action\n",
    "        obj = (mean_actions ** 2).sum()\n",
    "        obj.backward()\n",
    "\n",
    "        grad_sign = torch.sign(obs_t.grad)\n",
    "        adv = torch.clamp(obs_t + self.eps * grad_sign, -1.0, 1.0)\n",
    "        adv_np = adv.detach().cpu().numpy()\n",
    "        return adv_np[0] if single else adv_np"
   ]
  },
  {
   "cell_type": "code",
   "execution_count": null,
   "id": "43dcab2b-56d1-4114-8c78-b23132490b7e",
   "metadata": {},
   "outputs": [],
   "source": [
    "class OIAttack(AttackWrapper):\n",
    "    \"\"\"Optimism Induction Attack: increase the critic value V(s).\"\"\"\n",
    "    def perturb(self, obs: np.ndarray) -> np.ndarray:\n",
    "        self.model.policy.set_training_mode(True)\n",
    "        self.model.policy.zero_grad(set_to_none=True)\n",
    "\n",
    "        obs_t = _to_tensor(obs)\n",
    "        single = False\n",
    "        if obs_t.ndim == 1:\n",
    "            obs_t = obs_t.unsqueeze(0)\n",
    "            single = True\n",
    "        obs_t = obs_t.to(self.device)\n",
    "        obs_t.requires_grad_(True)\n",
    "\n",
    "        features = self.model.policy.extract_features(obs_t)\n",
    "        _, latent_vf = self.model.policy.mlp_extractor(features)\n",
    "        values = self.model.policy.value_net(latent_vf)  # [B,1]\n",
    "\n",
    "        obj = values.sum()\n",
    "        obj.backward()\n",
    "\n",
    "        grad_sign = torch.sign(obs_t.grad)\n",
    "        adv = torch.clamp(obs_t + self.eps * grad_sign, -1.0, 1.0)\n",
    "        adv_np = adv.detach().cpu().numpy()\n",
    "        return adv_np[0] if single else adv_np\n"
   ]
  },
  {
   "cell_type": "code",
   "execution_count": null,
   "id": "8057fe2e-2849-4c07-ad03-c36e7e8d29e3",
   "metadata": {},
   "outputs": [],
   "source": [
    "from stable_baselines3 import PPO\n",
    "from stable_baselines3.common.vec_env import DummyVecEnv, VecNormalize\n",
    "from acc_env import ACCEnv\n",
    "\n",
    "LOGDIR = \"runs/ppo_baseline\"\n",
    "\n",
    "def make_env_eval(seed=123):\n",
    "    def _thunk():\n",
    "        return ACCEnv(brake_profile=True, normalize_obs=True, seed=seed)\n",
    "    return _thunk\n",
    "\n",
    "base_env = DummyVecEnv([make_env_eval()])\n",
    "env = VecNormalize.load(f\"{LOGDIR}/vecnormalize.pkl\", base_env)\n",
    "env.training = False\n",
    "env.norm_reward = False\n",
    "\n",
    "model = PPO.load(f\"{LOGDIR}/ppo_acc\")\n"
   ]
  },
  {
   "cell_type": "code",
   "execution_count": null,
   "id": "5873b849-fdd5-4797-a289-102a76645aac",
   "metadata": {},
   "outputs": [],
   "source": [
    "def print_attack_sanity(model, env, eps=0.01):\n",
    "    atk = FGSMAttack(model, epsilon=eps, device=\"cpu\")\n",
    "    obs = env.reset()[0]\n",
    "    adv = atk.perturb(obs)\n",
    "    print(\"FGSM sanity:\")\n",
    "    print(\" original obs:\", obs)\n",
    "    print(\" adv obs     :\", adv)\n",
    "    print(\" max |Δ|     :\", float(np.max(np.abs(np.array(adv) - np.array(obs)))))\n",
    "\n",
    "    atk2 = OIAttack(model, epsilon=eps, device=\"cpu\")\n",
    "    adv2 = atk2.perturb(obs)\n",
    "    print(\"\\nOIA sanity:\")\n",
    "    print(\" original obs:\", obs)\n",
    "    print(\" adv obs     :\", adv2)\n",
    "    print(\" max |Δ|     :\", float(np.max(np.abs(np.array(adv2) - np.array(obs)))))"
   ]
  },
  {
   "cell_type": "code",
   "execution_count": null,
   "id": "95fc024d-c2c0-4c5a-983e-28446173c81e",
   "metadata": {},
   "outputs": [],
   "source": [
    "# Quick demo run (will only work if `model` and `env` exist in the kernel).\n",
    "# If not present, this prints an instructive message.\n",
    "try:\n",
    "    print(\"Running a one-step demo with current model/env (if available)...\\n\")\n",
    "    atk = FGSMAttack(model, epsilon=0.01, device=\"cpu\")\n",
    "    obs = env.reset()[0]\n",
    "    adv = atk.perturb(obs)\n",
    "    print(\"FGSM max |Δ|:\", float(np.max(np.abs(np.array(adv) - np.array(obs)))))\n",
    "    atk2 = OIAttack(model, epsilon=0.01, device=\"cpu\")\n",
    "    adv2 = atk2.perturb(obs)\n",
    "    print(\"OIA  max |Δ|:\", float(np.max(np.abs(np.array(adv2) - np.array(obs)))))\n",
    "except NameError:\n",
    "    print(\"Define `model` and `env` (load your PPO and VecNormalize env) before running the demo cell.\")"
   ]
  }
 ],
 "metadata": {
  "kernelspec": {
   "display_name": "Python 3 (ipykernel)",
   "language": "python",
   "name": "python3"
  },
  "language_info": {
   "codemirror_mode": {
    "name": "ipython",
    "version": 3
   },
   "file_extension": ".py",
   "mimetype": "text/x-python",
   "name": "python",
   "nbconvert_exporter": "python",
   "pygments_lexer": "ipython3",
   "version": "3.12.2"
  }
 },
 "nbformat": 4,
 "nbformat_minor": 5
}
