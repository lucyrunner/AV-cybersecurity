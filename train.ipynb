{
 "cells": [
  {
   "cell_type": "markdown",
   "id": "fe84c515",
   "metadata": {},
   "source": [
    "# `train.py`\n",
    "\n",
    "This notebook contains the contents of `train.py` exported from the project. Run cells as needed."
   ]
  },
  {
   "cell_type": "markdown",
   "id": "7665ac7e",
   "metadata": {},
   "source": [
    "**Quick usage:** Save this notebook and run the code cells. These cells can be edited or executed directly.\n",
    "\n",
    "If you prefer to run as a script, download the `.py` file and run it in a terminal."
   ]
  },
  {
   "cell_type": "code",
   "execution_count": null,
   "id": "b67d59bd",
   "metadata": {},
   "outputs": [],
   "source": [
    "from __future__ import annotations\n",
    "import argparse, os\n",
    "import gymnasium as gym\n",
    "from stable_baselines3 import PPO\n",
    "from stable_baselines3.common.vec_env import DummyVecEnv, VecNormalize\n",
    "from stable_baselines3.common.logger import configure\n",
    "from acc_env import ACCEnv\n",
    "\n",
    "def make_env(brake_profile=False, normalize_obs=True):\n",
    "    def _thunk():\n",
    "        return ACCEnv(brake_profile=brake_profile, normalize_obs=normalize_obs)\n",
    "    return _thunk\n",
    "\n",
    "def main():\n",
    "    parser = argparse.ArgumentParser()\n",
    "    parser.add_argument('--total-steps', type=int, default=300_000)\n",
    "    parser.add_argument('--logdir', type=str, default='runs/ppo_baseline')\n",
    "    parser.add_argument('--seed', type=int, default=0)\n",
    "    args = parser.parse_args()\n",
    "\n",
    "    os.makedirs(args.logdir, exist_ok=True)\n",
    "\n",
    "    # Vectorized env (single for simplicity)\n",
    "    env = DummyVecEnv([make_env(brake_profile=False, normalize_obs=True)])\n",
    "    env = VecNormalize(env, norm_obs=True, norm_reward=True, clip_obs=1.0)\n",
    "\n",
    "    model = PPO(\n",
    "        \"MlpPolicy\", env, verbose=1, seed=args.seed,\n",
    "        n_steps=1024, batch_size=128, learning_rate=3e-4, gamma=0.99,\n",
    "        gae_lambda=0.95, clip_range=0.2, ent_coef=0.0\n",
    "    )\n",
    "    new_logger = configure(args.logdir, [\"stdout\", \"csv\", \"tensorboard\"])\n",
    "    model.set_logger(new_logger)\n",
    "\n",
    "    model.learn(total_timesteps=args.total_steps, progress_bar=True)\n",
    "\n",
    "    # Save both model and normalization stats\n",
    "    model.save(os.path.join(args.logdir, 'ppo_acc'))\n",
    "    env.save(os.path.join(args.logdir, 'vecnormalize.pkl'))\n",
    "    print(f\"Saved to {args.logdir}\")\n",
    "\n",
    "if __name__ == '__main__':\n",
    "    main()\n"
   ]
  }
 ],
 "metadata": {},
 "nbformat": 4,
 "nbformat_minor": 5
}
