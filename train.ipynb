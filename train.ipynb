{
 "cells": [
  {
   "cell_type": "code",
   "execution_count": 1,
   "id": "b67d59bd",
   "metadata": {},
   "outputs": [
    {
     "name": "stderr",
     "output_type": "stream",
     "text": [
      "2025-09-21 20:45:45.443622: I tensorflow/core/platform/cpu_feature_guard.cc:210] This TensorFlow binary is optimized to use available CPU instructions in performance-critical operations.\n",
      "To enable the following instructions: SSE4.1 SSE4.2, in other operations, rebuild TensorFlow with the appropriate compiler flags.\n"
     ]
    },
    {
     "ename": "ModuleNotFoundError",
     "evalue": "No module named 'acc_env'",
     "output_type": "error",
     "traceback": [
      "\u001b[0;31m---------------------------------------------------------------------------\u001b[0m",
      "\u001b[0;31mModuleNotFoundError\u001b[0m                       Traceback (most recent call last)",
      "Cell \u001b[0;32mIn[1], line 7\u001b[0m\n\u001b[1;32m      5\u001b[0m \u001b[38;5;28;01mfrom\u001b[39;00m\u001b[38;5;250m \u001b[39m\u001b[38;5;21;01mstable_baselines3\u001b[39;00m\u001b[38;5;21;01m.\u001b[39;00m\u001b[38;5;21;01mcommon\u001b[39;00m\u001b[38;5;21;01m.\u001b[39;00m\u001b[38;5;21;01mvec_env\u001b[39;00m\u001b[38;5;250m \u001b[39m\u001b[38;5;28;01mimport\u001b[39;00m DummyVecEnv, VecNormalize\n\u001b[1;32m      6\u001b[0m \u001b[38;5;28;01mfrom\u001b[39;00m\u001b[38;5;250m \u001b[39m\u001b[38;5;21;01mstable_baselines3\u001b[39;00m\u001b[38;5;21;01m.\u001b[39;00m\u001b[38;5;21;01mcommon\u001b[39;00m\u001b[38;5;21;01m.\u001b[39;00m\u001b[38;5;21;01mlogger\u001b[39;00m\u001b[38;5;250m \u001b[39m\u001b[38;5;28;01mimport\u001b[39;00m configure\n\u001b[0;32m----> 7\u001b[0m \u001b[38;5;28;01mfrom\u001b[39;00m\u001b[38;5;250m \u001b[39m\u001b[38;5;21;01macc_env\u001b[39;00m\u001b[38;5;250m \u001b[39m\u001b[38;5;28;01mimport\u001b[39;00m ACCEnv\n\u001b[1;32m      9\u001b[0m \u001b[38;5;28;01mdef\u001b[39;00m\u001b[38;5;250m \u001b[39m\u001b[38;5;21mmake_env\u001b[39m(brake_profile\u001b[38;5;241m=\u001b[39m\u001b[38;5;28;01mFalse\u001b[39;00m, normalize_obs\u001b[38;5;241m=\u001b[39m\u001b[38;5;28;01mTrue\u001b[39;00m):\n\u001b[1;32m     10\u001b[0m     \u001b[38;5;28;01mdef\u001b[39;00m\u001b[38;5;250m \u001b[39m\u001b[38;5;21m_thunk\u001b[39m():\n",
      "\u001b[0;31mModuleNotFoundError\u001b[0m: No module named 'acc_env'"
     ]
    }
   ],
   "source": [
    "from __future__ import annotations\n",
    "import argparse, os\n",
    "import gymnasium as gym\n",
    "from stable_baselines3 import PPO\n",
    "from stable_baselines3.common.vec_env import DummyVecEnv, VecNormalize\n",
    "from stable_baselines3.common.logger import configure\n",
    "from acc_env import ACCEnv\n",
    "\n",
    "def make_env(brake_profile=False, normalize_obs=True):\n",
    "    def _thunk():\n",
    "        return ACCEnv(brake_profile=brake_profile, normalize_obs=normalize_obs)\n",
    "    return _thunk\n",
    "\n",
    "def main():\n",
    "    parser = argparse.ArgumentParser()\n",
    "    parser.add_argument('--total-steps', type=int, default=300_000)\n",
    "    parser.add_argument('--logdir', type=str, default='runs/ppo_baseline')\n",
    "    parser.add_argument('--seed', type=int, default=0)\n",
    "    args = parser.parse_args()\n",
    "\n",
    "    os.makedirs(args.logdir, exist_ok=True)\n",
    "\n",
    "    # Vectorized env (single for simplicity)\n",
    "    env = DummyVecEnv([make_env(brake_profile=False, normalize_obs=True)])\n",
    "    env = VecNormalize(env, norm_obs=True, norm_reward=True, clip_obs=1.0)\n",
    "\n",
    "    model = PPO(\n",
    "        \"MlpPolicy\", env, verbose=1, seed=args.seed,\n",
    "        n_steps=1024, batch_size=128, learning_rate=3e-4, gamma=0.99,\n",
    "        gae_lambda=0.95, clip_range=0.2, ent_coef=0.0\n",
    "    )\n",
    "    new_logger = configure(args.logdir, [\"stdout\", \"csv\", \"tensorboard\"])\n",
    "    model.set_logger(new_logger)\n",
    "\n",
    "    model.learn(total_timesteps=args.total_steps, progress_bar=True)\n",
    "\n",
    "    # Save both model and normalization stats\n",
    "    model.save(os.path.join(args.logdir, 'ppo_acc'))\n",
    "    env.save(os.path.join(args.logdir, 'vecnormalize.pkl'))\n",
    "    print(f\"Saved to {args.logdir}\")\n",
    "\n",
    "if __name__ == '__main__':\n",
    "    main()\n"
   ]
  }
 ],
 "metadata": {
  "kernelspec": {
   "display_name": "Python 3 (ipykernel)",
   "language": "python",
   "name": "python3"
  },
  "language_info": {
   "codemirror_mode": {
    "name": "ipython",
    "version": 3
   },
   "file_extension": ".py",
   "mimetype": "text/x-python",
   "name": "python",
   "nbconvert_exporter": "python",
   "pygments_lexer": "ipython3",
   "version": "3.12.2"
  }
 },
 "nbformat": 4,
 "nbformat_minor": 5
}
